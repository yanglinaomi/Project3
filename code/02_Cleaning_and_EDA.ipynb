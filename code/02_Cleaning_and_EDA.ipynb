{
 "cells": [
  {
   "cell_type": "markdown",
   "metadata": {},
   "source": [
    "## EDA and data cleaning"
   ]
  },
  {
   "cell_type": "code",
   "execution_count": 23,
   "metadata": {},
   "outputs": [],
   "source": [
    "#import libraries\n",
    "from matplotlib import pyplot as plt\n",
    "import pandas as pd"
   ]
  },
  {
   "cell_type": "code",
   "execution_count": 24,
   "metadata": {},
   "outputs": [],
   "source": [
    "# read raw post data\n",
    "coffee = pd.read_csv('../data/Coffee.csv')\n",
    "tea = pd.read_csv('../data/Tea.csv')"
   ]
  },
  {
   "cell_type": "code",
   "execution_count": 25,
   "metadata": {
    "scrolled": true
   },
   "outputs": [
    {
     "data": {
      "text/plain": [
       "False    926\n",
       "True      77\n",
       "Name: name, dtype: int64"
      ]
     },
     "execution_count": 25,
     "metadata": {},
     "output_type": "execute_result"
    }
   ],
   "source": [
    "# There are 77 duplicated posts inside coffee posts\n",
    "coffee[\"name\"].duplicated().value_counts()"
   ]
  },
  {
   "cell_type": "code",
   "execution_count": 26,
   "metadata": {},
   "outputs": [
    {
     "data": {
      "text/plain": [
       "False    985\n",
       "Name: name, dtype: int64"
      ]
     },
     "execution_count": 26,
     "metadata": {},
     "output_type": "execute_result"
    }
   ],
   "source": [
    "# No duplicated posts inside tea posts\n",
    "tea[\"name\"].duplicated().value_counts()"
   ]
  },
  {
   "cell_type": "code",
   "execution_count": 27,
   "metadata": {},
   "outputs": [
    {
     "data": {
      "text/plain": [
       "(1003, 109)"
      ]
     },
     "execution_count": 27,
     "metadata": {},
     "output_type": "execute_result"
    }
   ],
   "source": [
    "coffee.shape"
   ]
  },
  {
   "cell_type": "code",
   "execution_count": 28,
   "metadata": {
    "scrolled": true
   },
   "outputs": [
    {
     "data": {
      "text/plain": [
       "(985, 116)"
      ]
     },
     "execution_count": 28,
     "metadata": {},
     "output_type": "execute_result"
    }
   ],
   "source": [
    "tea.shape"
   ]
  },
  {
   "cell_type": "markdown",
   "metadata": {},
   "source": [
    "### Drop duplicate posts"
   ]
  },
  {
   "cell_type": "code",
   "execution_count": 29,
   "metadata": {},
   "outputs": [],
   "source": [
    "# drop duplicated posts for coffee\n",
    "# There is no duplicated posts for tea\n",
    "bool_values = coffee[\"name\"].duplicated(keep=False) \n",
    "coffee[bool_values].sort_values(by=\"name\").head(10)\n",
    "coffee = coffee.drop_duplicates(subset='name', keep='first')"
   ]
  },
  {
   "cell_type": "code",
   "execution_count": 30,
   "metadata": {},
   "outputs": [
    {
     "data": {
      "text/plain": [
       "False    926\n",
       "Name: name, dtype: int64"
      ]
     },
     "execution_count": 30,
     "metadata": {},
     "output_type": "execute_result"
    }
   ],
   "source": [
    "coffee[\"name\"].duplicated().value_counts()"
   ]
  },
  {
   "cell_type": "markdown",
   "metadata": {},
   "source": [
    "### Null Imputation"
   ]
  },
  {
   "cell_type": "markdown",
   "metadata": {},
   "source": [
    "We are only interested in 'title', 'selftext' columns. We fill in \"\" for missing 'selftext' since people do not write selftext for some posts. Fortunately, there is no missing for 'title'."
   ]
  },
  {
   "cell_type": "code",
   "execution_count": 31,
   "metadata": {
    "scrolled": true
   },
   "outputs": [
    {
     "data": {
      "text/plain": [
       "selftext    38\n",
       "title        0\n",
       "dtype: int64"
      ]
     },
     "execution_count": 31,
     "metadata": {},
     "output_type": "execute_result"
    }
   ],
   "source": [
    "coffee[['selftext', 'title']].isnull().sum()"
   ]
  },
  {
   "cell_type": "code",
   "execution_count": 32,
   "metadata": {},
   "outputs": [
    {
     "data": {
      "text/plain": [
       "selftext    527\n",
       "title         0\n",
       "dtype: int64"
      ]
     },
     "execution_count": 32,
     "metadata": {},
     "output_type": "execute_result"
    }
   ],
   "source": [
    "tea[['selftext', 'title']].isnull().sum()"
   ]
  },
  {
   "cell_type": "code",
   "execution_count": 33,
   "metadata": {},
   "outputs": [
    {
     "data": {
      "text/plain": [
       "0"
      ]
     },
     "execution_count": 33,
     "metadata": {},
     "output_type": "execute_result"
    }
   ],
   "source": [
    "coffee[\"selftext\"].fillna(\"\", inplace=True)\n",
    "coffee[\"selftext\"].isnull().sum()"
   ]
  },
  {
   "cell_type": "code",
   "execution_count": 34,
   "metadata": {},
   "outputs": [
    {
     "data": {
      "text/plain": [
       "0"
      ]
     },
     "execution_count": 34,
     "metadata": {},
     "output_type": "execute_result"
    }
   ],
   "source": [
    "tea[\"selftext\"].fillna(\"\", inplace=True)\n",
    "tea[\"selftext\"].isnull().sum()"
   ]
  },
  {
   "cell_type": "markdown",
   "metadata": {},
   "source": [
    "### Combine title and selftext"
   ]
  },
  {
   "cell_type": "markdown",
   "metadata": {},
   "source": [
    "We are interested in the post text. So we create a new column 'combine_text' to combine 'title' and 'selftext' for each post. "
   ]
  },
  {
   "cell_type": "code",
   "execution_count": 35,
   "metadata": {},
   "outputs": [],
   "source": [
    "coffee['combine_text'] = coffee['selftext'] +' '+coffee['title']"
   ]
  },
  {
   "cell_type": "code",
   "execution_count": 36,
   "metadata": {},
   "outputs": [],
   "source": [
    "tea['combine_text'] = tea['selftext'] +' '+tea['title']"
   ]
  },
  {
   "cell_type": "code",
   "execution_count": 37,
   "metadata": {
    "scrolled": true
   },
   "outputs": [],
   "source": [
    "# Create new column 'combinetext_len' for text length of each post for both coffee and tea\n",
    "coffee[\"combinetext_len\"] = [len(i.strip()) for i in coffee[\"combine_text\"]]\n",
    "tea[\"combinetext_len\"] = [len(i.strip()) for i in tea[\"combine_text\"]]"
   ]
  },
  {
   "cell_type": "code",
   "execution_count": 38,
   "metadata": {
    "scrolled": true
   },
   "outputs": [
    {
     "data": {
      "text/plain": [
       "Text(0, 0.5, 'frequency')"
      ]
     },
     "execution_count": 38,
     "metadata": {},
     "output_type": "execute_result"
    },
    {
     "data": {
      "image/png": "[encoded data removed]",
      "text/plain": [
       "<Figure size 864x576 with 1 Axes>"
      ]
     },
     "metadata": {
      "needs_background": "light"
     },
     "output_type": "display_data"
    }
   ],
   "source": [
    "# Histogram plot for conbine text length for coffee posts\n",
    "plt.figure(figsize=(12,8))\n",
    "plt.hist(coffee[\"combinetext_len\"], bins =30)\n",
    "plt.title(\"Histogram of combine text length for coffee\", fontsize=20)\n",
    "plt.xlabel(\"combinetext length\", fontsize=15)\n",
    "plt.ylabel(\"frequency\", fontsize=15)"
   ]
  },
  {
   "cell_type": "markdown",
   "metadata": {},
   "source": [
    "- The histogram for coffee post 'combine_text' length skews to the left (towards 0). It indicates that most of text length is between 0 to 1250. The peak is around 250 to 500. "
   ]
  },
  {
   "cell_type": "code",
   "execution_count": 39,
   "metadata": {
    "scrolled": false
   },
   "outputs": [
    {
     "data": {
      "text/plain": [
       "Text(0, 0.5, 'frequency')"
      ]
     },
     "execution_count": 39,
     "metadata": {},
     "output_type": "execute_result"
    },
    {
     "data": {
      "image/png": "[encoded data removed]",
      "text/plain": [
       "<Figure size 864x576 with 1 Axes>"
      ]
     },
     "metadata": {
      "needs_background": "light"
     },
     "output_type": "display_data"
    }
   ],
   "source": [
    "# Histogram plot for conbine text length for tea posts\n",
    "plt.figure(figsize=(12,8))\n",
    "plt.hist(tea[\"combinetext_len\"], bins=30)\n",
    "plt.title(\"Histogram of combine text length for tea\", fontsize=20)\n",
    "plt.xlabel(\"combinetext length\", fontsize=15)\n",
    "plt.ylabel(\"frequency\", fontsize=15)"
   ]
  },
  {
   "cell_type": "markdown",
   "metadata": {},
   "source": [
    "- The histogram for tea post 'combine_text' length skews to the left (towards 0). It indicates that most of text length is between 0 to 600-700. The peak is around 0 to 160~200. "
   ]
  },
  {
   "cell_type": "markdown",
   "metadata": {},
   "source": [
    "Since we have more than half of tea posts without selftext, the combine-text lengths of tea posts are much shorter than coffee posts. After data pre-processing, there may be some tea post with short content. This may lead misclassification of our model. "
   ]
  },
  {
   "cell_type": "markdown",
   "metadata": {},
   "source": [
    "### Rearrange columns"
   ]
  },
  {
   "cell_type": "markdown",
   "metadata": {},
   "source": [
    "We re-arrange the columns and make sure the columns that we are interested are shown in the left side of dataframe. "
   ]
  },
  {
   "cell_type": "code",
   "execution_count": 40,
   "metadata": {},
   "outputs": [],
   "source": [
    "cols_rearrange = [\"name\", \"subreddit\", \"combine_text\", \"title\", \"selftext\", \"url\", \"media\", \"selftext_html\"]\n",
    "new_columns = cols_rearrange + (coffee.columns.drop(cols_rearrange).tolist())"
   ]
  },
  {
   "cell_type": "code",
   "execution_count": 41,
   "metadata": {
    "scrolled": true
   },
   "outputs": [
    {
     "data": {
      "text/html": [
       "<div>\n",
       "<style scoped>\n",
       "    .dataframe tbody tr th:only-of-type {\n",
       "        vertical-align: middle;\n",
       "    }\n",
       "\n",
       "    .dataframe tbody tr th {\n",
       "        vertical-align: top;\n",
       "    }\n",
       "\n",
       "    .dataframe thead th {\n",
       "        text-align: right;\n",
       "    }\n",
       "</style>\n",
       "<table border=\"1\" class=\"dataframe\">\n",
       "  <thead>\n",
       "    <tr style=\"text-align: right;\">\n",
       "      <th></th>\n",
       "      <th>name</th>\n",
       "      <th>subreddit</th>\n",
       "      <th>combine_text</th>\n",
       "      <th>title</th>\n",
       "      <th>selftext</th>\n",
       "      <th>url</th>\n",
       "      <th>media</th>\n",
       "      <th>selftext_html</th>\n",
       "      <th>approved_at_utc</th>\n",
       "      <th>author_fullname</th>\n",
       "      <th>...</th>\n",
       "      <th>created_utc</th>\n",
       "      <th>num_crossposts</th>\n",
       "      <th>is_video</th>\n",
       "      <th>media_metadata</th>\n",
       "      <th>url_overridden_by_dest</th>\n",
       "      <th>author_cakeday</th>\n",
       "      <th>link_flair_template_id</th>\n",
       "      <th>is_gallery</th>\n",
       "      <th>gallery_data</th>\n",
       "      <th>combinetext_len</th>\n",
       "    </tr>\n",
       "  </thead>\n",
       "  <tbody>\n",
       "    <tr>\n",
       "      <th>0</th>\n",
       "      <td>t3_o5jedn</td>\n",
       "      <td>Coffee</td>\n",
       "      <td>\\n\\nWelcome to the daily [/r/Coffee](https://...</td>\n",
       "      <td>[MOD] The Daily Question Thread</td>\n",
       "      <td>\\n\\nWelcome to the daily [/r/Coffee](https://...</td>\n",
       "      <td>https://www.reddit.com/r/Coffee/comments/o5jed...</td>\n",
       "      <td>NaN</td>\n",
       "      <td>&amp;lt;!-- SC_OFF --&amp;gt;&amp;lt;div class=\"md\"&amp;gt;&amp;lt...</td>\n",
       "      <td>NaN</td>\n",
       "      <td>t2_a04m4</td>\n",
       "      <td>...</td>\n",
       "      <td>1.624356e+09</td>\n",
       "      <td>0</td>\n",
       "      <td>False</td>\n",
       "      <td>NaN</td>\n",
       "      <td>NaN</td>\n",
       "      <td>NaN</td>\n",
       "      <td>NaN</td>\n",
       "      <td>NaN</td>\n",
       "      <td>NaN</td>\n",
       "      <td>1071</td>\n",
       "    </tr>\n",
       "    <tr>\n",
       "      <th>1</th>\n",
       "      <td>t3_o4g29w</td>\n",
       "      <td>Coffee</td>\n",
       "      <td>Welcome to the /r/Coffee deal and promotional ...</td>\n",
       "      <td>[MOD] The Official Deal Thread</td>\n",
       "      <td>Welcome to the /r/Coffee deal and promotional ...</td>\n",
       "      <td>https://www.reddit.com/r/Coffee/comments/o4g29...</td>\n",
       "      <td>NaN</td>\n",
       "      <td>&amp;lt;!-- SC_OFF --&amp;gt;&amp;lt;div class=\"md\"&amp;gt;&amp;lt...</td>\n",
       "      <td>NaN</td>\n",
       "      <td>t2_a04m4</td>\n",
       "      <td>...</td>\n",
       "      <td>1.624226e+09</td>\n",
       "      <td>0</td>\n",
       "      <td>False</td>\n",
       "      <td>NaN</td>\n",
       "      <td>NaN</td>\n",
       "      <td>NaN</td>\n",
       "      <td>NaN</td>\n",
       "      <td>NaN</td>\n",
       "      <td>NaN</td>\n",
       "      <td>2966</td>\n",
       "    </tr>\n",
       "    <tr>\n",
       "      <th>2</th>\n",
       "      <td>t3_o5dza5</td>\n",
       "      <td>Coffee</td>\n",
       "      <td>Had a barista look at me like o was an idiot a...</td>\n",
       "      <td>How do I tell a barista who doesn’t know how t...</td>\n",
       "      <td>Had a barista look at me like o was an idiot a...</td>\n",
       "      <td>https://www.reddit.com/r/Coffee/comments/o5dza...</td>\n",
       "      <td>NaN</td>\n",
       "      <td>&amp;lt;!-- SC_OFF --&amp;gt;&amp;lt;div class=\"md\"&amp;gt;&amp;lt...</td>\n",
       "      <td>NaN</td>\n",
       "      <td>t2_5osn42q</td>\n",
       "      <td>...</td>\n",
       "      <td>1.624335e+09</td>\n",
       "      <td>1</td>\n",
       "      <td>False</td>\n",
       "      <td>NaN</td>\n",
       "      <td>NaN</td>\n",
       "      <td>NaN</td>\n",
       "      <td>NaN</td>\n",
       "      <td>NaN</td>\n",
       "      <td>NaN</td>\n",
       "      <td>615</td>\n",
       "    </tr>\n",
       "    <tr>\n",
       "      <th>3</th>\n",
       "      <td>t3_o4t0w3</td>\n",
       "      <td>Coffee</td>\n",
       "      <td>Hello everyone, I’m new to this sub so please ...</td>\n",
       "      <td>Cold milk foam experiments</td>\n",
       "      <td>Hello everyone, I’m new to this sub so please ...</td>\n",
       "      <td>https://www.reddit.com/r/Coffee/comments/o4t0w...</td>\n",
       "      <td>NaN</td>\n",
       "      <td>&amp;lt;!-- SC_OFF --&amp;gt;&amp;lt;div class=\"md\"&amp;gt;&amp;lt...</td>\n",
       "      <td>NaN</td>\n",
       "      <td>t2_crl1z</td>\n",
       "      <td>...</td>\n",
       "      <td>1.624275e+09</td>\n",
       "      <td>0</td>\n",
       "      <td>False</td>\n",
       "      <td>NaN</td>\n",
       "      <td>NaN</td>\n",
       "      <td>NaN</td>\n",
       "      <td>NaN</td>\n",
       "      <td>NaN</td>\n",
       "      <td>NaN</td>\n",
       "      <td>1434</td>\n",
       "    </tr>\n",
       "    <tr>\n",
       "      <th>4</th>\n",
       "      <td>t3_o5ajt1</td>\n",
       "      <td>Coffee</td>\n",
       "      <td>I've been getting pre-ground coffee (Bustelo/L...</td>\n",
       "      <td>Next piece of gear for moving to fresh coffee?</td>\n",
       "      <td>I've been getting pre-ground coffee (Bustelo/L...</td>\n",
       "      <td>https://www.reddit.com/r/Coffee/comments/o5ajt...</td>\n",
       "      <td>NaN</td>\n",
       "      <td>&amp;lt;!-- SC_OFF --&amp;gt;&amp;lt;div class=\"md\"&amp;gt;&amp;lt...</td>\n",
       "      <td>NaN</td>\n",
       "      <td>t2_zykiq</td>\n",
       "      <td>...</td>\n",
       "      <td>1.624324e+09</td>\n",
       "      <td>0</td>\n",
       "      <td>False</td>\n",
       "      <td>NaN</td>\n",
       "      <td>NaN</td>\n",
       "      <td>NaN</td>\n",
       "      <td>NaN</td>\n",
       "      <td>NaN</td>\n",
       "      <td>NaN</td>\n",
       "      <td>788</td>\n",
       "    </tr>\n",
       "  </tbody>\n",
       "</table>\n",
       "<p>5 rows × 111 columns</p>\n",
       "</div>"
      ],
      "text/plain": [
       "        name subreddit                                       combine_text  \\\n",
       "0  t3_o5jedn    Coffee   \\n\\nWelcome to the daily [/r/Coffee](https://...   \n",
       "1  t3_o4g29w    Coffee  Welcome to the /r/Coffee deal and promotional ...   \n",
       "2  t3_o5dza5    Coffee  Had a barista look at me like o was an idiot a...   \n",
       "3  t3_o4t0w3    Coffee  Hello everyone, I’m new to this sub so please ...   \n",
       "4  t3_o5ajt1    Coffee  I've been getting pre-ground coffee (Bustelo/L...   \n",
       "\n",
       "                                               title  \\\n",
       "0                    [MOD] The Daily Question Thread   \n",
       "1                     [MOD] The Official Deal Thread   \n",
       "2  How do I tell a barista who doesn’t know how t...   \n",
       "3                         Cold milk foam experiments   \n",
       "4     Next piece of gear for moving to fresh coffee?   \n",
       "\n",
       "                                            selftext  \\\n",
       "0   \\n\\nWelcome to the daily [/r/Coffee](https://...   \n",
       "1  Welcome to the /r/Coffee deal and promotional ...   \n",
       "2  Had a barista look at me like o was an idiot a...   \n",
       "3  Hello everyone, I’m new to this sub so please ...   \n",
       "4  I've been getting pre-ground coffee (Bustelo/L...   \n",
       "\n",
       "                                                 url media  \\\n",
       "0  https://www.reddit.com/r/Coffee/comments/o5jed...   NaN   \n",
       "1  https://www.reddit.com/r/Coffee/comments/o4g29...   NaN   \n",
       "2  https://www.reddit.com/r/Coffee/comments/o5dza...   NaN   \n",
       "3  https://www.reddit.com/r/Coffee/comments/o4t0w...   NaN   \n",
       "4  https://www.reddit.com/r/Coffee/comments/o5ajt...   NaN   \n",
       "\n",
       "                                       selftext_html  approved_at_utc  \\\n",
       "0  &lt;!-- SC_OFF --&gt;&lt;div class=\"md\"&gt;&lt...              NaN   \n",
       "1  &lt;!-- SC_OFF --&gt;&lt;div class=\"md\"&gt;&lt...              NaN   \n",
       "2  &lt;!-- SC_OFF --&gt;&lt;div class=\"md\"&gt;&lt...              NaN   \n",
       "3  &lt;!-- SC_OFF --&gt;&lt;div class=\"md\"&gt;&lt...              NaN   \n",
       "4  &lt;!-- SC_OFF --&gt;&lt;div class=\"md\"&gt;&lt...              NaN   \n",
       "\n",
       "  author_fullname  ...   created_utc  num_crossposts  is_video  \\\n",
       "0        t2_a04m4  ...  1.624356e+09               0     False   \n",
       "1        t2_a04m4  ...  1.624226e+09               0     False   \n",
       "2      t2_5osn42q  ...  1.624335e+09               1     False   \n",
       "3        t2_crl1z  ...  1.624275e+09               0     False   \n",
       "4        t2_zykiq  ...  1.624324e+09               0     False   \n",
       "\n",
       "   media_metadata url_overridden_by_dest author_cakeday  \\\n",
       "0             NaN                    NaN            NaN   \n",
       "1             NaN                    NaN            NaN   \n",
       "2             NaN                    NaN            NaN   \n",
       "3             NaN                    NaN            NaN   \n",
       "4             NaN                    NaN            NaN   \n",
       "\n",
       "   link_flair_template_id  is_gallery  gallery_data  combinetext_len  \n",
       "0                     NaN         NaN           NaN             1071  \n",
       "1                     NaN         NaN           NaN             2966  \n",
       "2                     NaN         NaN           NaN              615  \n",
       "3                     NaN         NaN           NaN             1434  \n",
       "4                     NaN         NaN           NaN              788  \n",
       "\n",
       "[5 rows x 111 columns]"
      ]
     },
     "execution_count": 41,
     "metadata": {},
     "output_type": "execute_result"
    }
   ],
   "source": [
    "# Apply new columns for coffee dataframe\n",
    "coffee=coffee[new_columns]\n",
    "coffee.head()"
   ]
  },
  {
   "cell_type": "code",
   "execution_count": 42,
   "metadata": {},
   "outputs": [
    {
     "data": {
      "text/html": [
       "<div>\n",
       "<style scoped>\n",
       "    .dataframe tbody tr th:only-of-type {\n",
       "        vertical-align: middle;\n",
       "    }\n",
       "\n",
       "    .dataframe tbody tr th {\n",
       "        vertical-align: top;\n",
       "    }\n",
       "\n",
       "    .dataframe thead th {\n",
       "        text-align: right;\n",
       "    }\n",
       "</style>\n",
       "<table border=\"1\" class=\"dataframe\">\n",
       "  <thead>\n",
       "    <tr style=\"text-align: right;\">\n",
       "      <th></th>\n",
       "      <th>name</th>\n",
       "      <th>subreddit</th>\n",
       "      <th>combine_text</th>\n",
       "      <th>title</th>\n",
       "      <th>selftext</th>\n",
       "      <th>url</th>\n",
       "      <th>media</th>\n",
       "      <th>selftext_html</th>\n",
       "      <th>approved_at_utc</th>\n",
       "      <th>author_fullname</th>\n",
       "      <th>...</th>\n",
       "      <th>created_utc</th>\n",
       "      <th>num_crossposts</th>\n",
       "      <th>is_video</th>\n",
       "      <th>media_metadata</th>\n",
       "      <th>url_overridden_by_dest</th>\n",
       "      <th>author_cakeday</th>\n",
       "      <th>link_flair_template_id</th>\n",
       "      <th>is_gallery</th>\n",
       "      <th>gallery_data</th>\n",
       "      <th>combinetext_len</th>\n",
       "    </tr>\n",
       "  </thead>\n",
       "  <tbody>\n",
       "    <tr>\n",
       "      <th>0</th>\n",
       "      <td>t3_o1271n</td>\n",
       "      <td>tea</td>\n",
       "      <td>What are you drinking today?  What questions h...</td>\n",
       "      <td>What's in your cup? Daily discussion, question...</td>\n",
       "      <td>What are you drinking today?  What questions h...</td>\n",
       "      <td>https://www.reddit.com/r/tea/comments/o1271n/w...</td>\n",
       "      <td>NaN</td>\n",
       "      <td>&amp;lt;!-- SC_OFF --&amp;gt;&amp;lt;div class=\"md\"&amp;gt;&amp;lt...</td>\n",
       "      <td>NaN</td>\n",
       "      <td>t2_6l4z3</td>\n",
       "      <td>...</td>\n",
       "      <td>1.623841e+09</td>\n",
       "      <td>0</td>\n",
       "      <td>False</td>\n",
       "      <td>NaN</td>\n",
       "      <td>NaN</td>\n",
       "      <td>NaN</td>\n",
       "      <td>4550cede-4940-11eb-aa8a-0e816bd6b2d1</td>\n",
       "      <td>NaN</td>\n",
       "      <td>NaN</td>\n",
       "      <td>574</td>\n",
       "    </tr>\n",
       "    <tr>\n",
       "      <th>1</th>\n",
       "      <td>t3_nzkoyj</td>\n",
       "      <td>tea</td>\n",
       "      <td>We realize there are lots of people involved i...</td>\n",
       "      <td>Marketing Monday! - June 14, 2021</td>\n",
       "      <td>We realize there are lots of people involved i...</td>\n",
       "      <td>https://www.reddit.com/r/tea/comments/nzkoyj/m...</td>\n",
       "      <td>NaN</td>\n",
       "      <td>&amp;lt;!-- SC_OFF --&amp;gt;&amp;lt;div class=\"md\"&amp;gt;&amp;lt...</td>\n",
       "      <td>NaN</td>\n",
       "      <td>t2_6l4z3</td>\n",
       "      <td>...</td>\n",
       "      <td>1.623670e+09</td>\n",
       "      <td>0</td>\n",
       "      <td>False</td>\n",
       "      <td>NaN</td>\n",
       "      <td>NaN</td>\n",
       "      <td>NaN</td>\n",
       "      <td>4550cede-4940-11eb-aa8a-0e816bd6b2d1</td>\n",
       "      <td>NaN</td>\n",
       "      <td>NaN</td>\n",
       "      <td>636</td>\n",
       "    </tr>\n",
       "    <tr>\n",
       "      <th>2</th>\n",
       "      <td>t3_o1mm4u</td>\n",
       "      <td>tea</td>\n",
       "      <td>Tea Testing for quality check. flavor, liquor...</td>\n",
       "      <td>Tea Testing for quality check. flavor, liquor,...</td>\n",
       "      <td></td>\n",
       "      <td>https://i.redd.it/yf0bt4k9pq571.jpg</td>\n",
       "      <td>NaN</td>\n",
       "      <td>NaN</td>\n",
       "      <td>NaN</td>\n",
       "      <td>t2_b3xdsui0</td>\n",
       "      <td>...</td>\n",
       "      <td>1.623898e+09</td>\n",
       "      <td>0</td>\n",
       "      <td>False</td>\n",
       "      <td>NaN</td>\n",
       "      <td>https://i.redd.it/yf0bt4k9pq571.jpg</td>\n",
       "      <td>NaN</td>\n",
       "      <td>8f9ceb1a-9f57-11e4-8b17-22000b2b86b1</td>\n",
       "      <td>NaN</td>\n",
       "      <td>NaN</td>\n",
       "      <td>103</td>\n",
       "    </tr>\n",
       "    <tr>\n",
       "      <th>3</th>\n",
       "      <td>t3_o1ezhm</td>\n",
       "      <td>tea</td>\n",
       "      <td>Hello. I decided to share with you a photo of...</td>\n",
       "      <td>Hello. I decided to share with you a photo of ...</td>\n",
       "      <td></td>\n",
       "      <td>https://i.redd.it/09zftcu607571.jpg</td>\n",
       "      <td>NaN</td>\n",
       "      <td>NaN</td>\n",
       "      <td>NaN</td>\n",
       "      <td>t2_26zkcq1y</td>\n",
       "      <td>...</td>\n",
       "      <td>1.623876e+09</td>\n",
       "      <td>0</td>\n",
       "      <td>False</td>\n",
       "      <td>NaN</td>\n",
       "      <td>https://i.redd.it/09zftcu607571.jpg</td>\n",
       "      <td>NaN</td>\n",
       "      <td>NaN</td>\n",
       "      <td>NaN</td>\n",
       "      <td>NaN</td>\n",
       "      <td>105</td>\n",
       "    </tr>\n",
       "    <tr>\n",
       "      <th>4</th>\n",
       "      <td>t3_o14d2u</td>\n",
       "      <td>tea</td>\n",
       "      <td>A little black tea and cookies for breakfast ...</td>\n",
       "      <td>A little black tea and cookies for breakfast a...</td>\n",
       "      <td></td>\n",
       "      <td>https://i.redd.it/fcyt42u0mm571.jpg</td>\n",
       "      <td>NaN</td>\n",
       "      <td>NaN</td>\n",
       "      <td>NaN</td>\n",
       "      <td>t2_48ws4g3y</td>\n",
       "      <td>...</td>\n",
       "      <td>1.623849e+09</td>\n",
       "      <td>0</td>\n",
       "      <td>False</td>\n",
       "      <td>NaN</td>\n",
       "      <td>https://i.redd.it/fcyt42u0mm571.jpg</td>\n",
       "      <td>NaN</td>\n",
       "      <td>8f9ceb1a-9f57-11e4-8b17-22000b2b86b1</td>\n",
       "      <td>NaN</td>\n",
       "      <td>NaN</td>\n",
       "      <td>81</td>\n",
       "    </tr>\n",
       "  </tbody>\n",
       "</table>\n",
       "<p>5 rows × 111 columns</p>\n",
       "</div>"
      ],
      "text/plain": [
       "        name subreddit                                       combine_text  \\\n",
       "0  t3_o1271n       tea  What are you drinking today?  What questions h...   \n",
       "1  t3_nzkoyj       tea  We realize there are lots of people involved i...   \n",
       "2  t3_o1mm4u       tea   Tea Testing for quality check. flavor, liquor...   \n",
       "3  t3_o1ezhm       tea   Hello. I decided to share with you a photo of...   \n",
       "4  t3_o14d2u       tea   A little black tea and cookies for breakfast ...   \n",
       "\n",
       "                                               title  \\\n",
       "0  What's in your cup? Daily discussion, question...   \n",
       "1                  Marketing Monday! - June 14, 2021   \n",
       "2  Tea Testing for quality check. flavor, liquor,...   \n",
       "3  Hello. I decided to share with you a photo of ...   \n",
       "4  A little black tea and cookies for breakfast a...   \n",
       "\n",
       "                                            selftext  \\\n",
       "0  What are you drinking today?  What questions h...   \n",
       "1  We realize there are lots of people involved i...   \n",
       "2                                                      \n",
       "3                                                      \n",
       "4                                                      \n",
       "\n",
       "                                                 url media  \\\n",
       "0  https://www.reddit.com/r/tea/comments/o1271n/w...   NaN   \n",
       "1  https://www.reddit.com/r/tea/comments/nzkoyj/m...   NaN   \n",
       "2                https://i.redd.it/yf0bt4k9pq571.jpg   NaN   \n",
       "3                https://i.redd.it/09zftcu607571.jpg   NaN   \n",
       "4                https://i.redd.it/fcyt42u0mm571.jpg   NaN   \n",
       "\n",
       "                                       selftext_html  approved_at_utc  \\\n",
       "0  &lt;!-- SC_OFF --&gt;&lt;div class=\"md\"&gt;&lt...              NaN   \n",
       "1  &lt;!-- SC_OFF --&gt;&lt;div class=\"md\"&gt;&lt...              NaN   \n",
       "2                                                NaN              NaN   \n",
       "3                                                NaN              NaN   \n",
       "4                                                NaN              NaN   \n",
       "\n",
       "  author_fullname  ...   created_utc  num_crossposts  is_video  \\\n",
       "0        t2_6l4z3  ...  1.623841e+09               0     False   \n",
       "1        t2_6l4z3  ...  1.623670e+09               0     False   \n",
       "2     t2_b3xdsui0  ...  1.623898e+09               0     False   \n",
       "3     t2_26zkcq1y  ...  1.623876e+09               0     False   \n",
       "4     t2_48ws4g3y  ...  1.623849e+09               0     False   \n",
       "\n",
       "   media_metadata               url_overridden_by_dest author_cakeday  \\\n",
       "0             NaN                                  NaN            NaN   \n",
       "1             NaN                                  NaN            NaN   \n",
       "2             NaN  https://i.redd.it/yf0bt4k9pq571.jpg            NaN   \n",
       "3             NaN  https://i.redd.it/09zftcu607571.jpg            NaN   \n",
       "4             NaN  https://i.redd.it/fcyt42u0mm571.jpg            NaN   \n",
       "\n",
       "                 link_flair_template_id  is_gallery gallery_data  \\\n",
       "0  4550cede-4940-11eb-aa8a-0e816bd6b2d1         NaN          NaN   \n",
       "1  4550cede-4940-11eb-aa8a-0e816bd6b2d1         NaN          NaN   \n",
       "2  8f9ceb1a-9f57-11e4-8b17-22000b2b86b1         NaN          NaN   \n",
       "3                                   NaN         NaN          NaN   \n",
       "4  8f9ceb1a-9f57-11e4-8b17-22000b2b86b1         NaN          NaN   \n",
       "\n",
       "   combinetext_len  \n",
       "0              574  \n",
       "1              636  \n",
       "2              103  \n",
       "3              105  \n",
       "4               81  \n",
       "\n",
       "[5 rows x 111 columns]"
      ]
     },
     "execution_count": 42,
     "metadata": {},
     "output_type": "execute_result"
    }
   ],
   "source": [
    "# Apply new columns for tea dataframe\n",
    "tea=tea[new_columns]\n",
    "tea.head()"
   ]
  },
  {
   "cell_type": "markdown",
   "metadata": {},
   "source": [
    "### Define train_coffee and train_tea"
   ]
  },
  {
   "cell_type": "markdown",
   "metadata": {},
   "source": [
    "We only include 'subreddit' and 'combine_text' columns in our train data. "
   ]
  },
  {
   "cell_type": "code",
   "execution_count": 43,
   "metadata": {},
   "outputs": [],
   "source": [
    "train_coffee = coffee[['subreddit', 'combine_text']]"
   ]
  },
  {
   "cell_type": "code",
   "execution_count": 44,
   "metadata": {},
   "outputs": [],
   "source": [
    "train_tea = tea[['subreddit', 'combine_text']]"
   ]
  },
  {
   "cell_type": "code",
   "execution_count": 45,
   "metadata": {
    "scrolled": false
   },
   "outputs": [
    {
     "data": {
      "text/html": [
       "<div>\n",
       "<style scoped>\n",
       "    .dataframe tbody tr th:only-of-type {\n",
       "        vertical-align: middle;\n",
       "    }\n",
       "\n",
       "    .dataframe tbody tr th {\n",
       "        vertical-align: top;\n",
       "    }\n",
       "\n",
       "    .dataframe thead th {\n",
       "        text-align: right;\n",
       "    }\n",
       "</style>\n",
       "<table border=\"1\" class=\"dataframe\">\n",
       "  <thead>\n",
       "    <tr style=\"text-align: right;\">\n",
       "      <th></th>\n",
       "      <th>subreddit</th>\n",
       "      <th>combine_text</th>\n",
       "    </tr>\n",
       "  </thead>\n",
       "  <tbody>\n",
       "    <tr>\n",
       "      <th>0</th>\n",
       "      <td>Coffee</td>\n",
       "      <td>\\n\\nWelcome to the daily [/r/Coffee](https://...</td>\n",
       "    </tr>\n",
       "    <tr>\n",
       "      <th>1</th>\n",
       "      <td>Coffee</td>\n",
       "      <td>Welcome to the /r/Coffee deal and promotional ...</td>\n",
       "    </tr>\n",
       "    <tr>\n",
       "      <th>2</th>\n",
       "      <td>Coffee</td>\n",
       "      <td>Had a barista look at me like o was an idiot a...</td>\n",
       "    </tr>\n",
       "    <tr>\n",
       "      <th>3</th>\n",
       "      <td>Coffee</td>\n",
       "      <td>Hello everyone, I’m new to this sub so please ...</td>\n",
       "    </tr>\n",
       "    <tr>\n",
       "      <th>4</th>\n",
       "      <td>Coffee</td>\n",
       "      <td>I've been getting pre-ground coffee (Bustelo/L...</td>\n",
       "    </tr>\n",
       "    <tr>\n",
       "      <th>...</th>\n",
       "      <td>...</td>\n",
       "      <td>...</td>\n",
       "    </tr>\n",
       "    <tr>\n",
       "      <th>921</th>\n",
       "      <td>Coffee</td>\n",
       "      <td>\\n\\nWelcome to the daily [/r/Coffee](https://...</td>\n",
       "    </tr>\n",
       "    <tr>\n",
       "      <th>922</th>\n",
       "      <td>Coffee</td>\n",
       "      <td>If I say I like craft beers, people probably a...</td>\n",
       "    </tr>\n",
       "    <tr>\n",
       "      <th>923</th>\n",
       "      <td>Coffee</td>\n",
       "      <td>I've recently started trying to take more cont...</td>\n",
       "    </tr>\n",
       "    <tr>\n",
       "      <th>924</th>\n",
       "      <td>Coffee</td>\n",
       "      <td>I've recently started making coldbrew in my fr...</td>\n",
       "    </tr>\n",
       "    <tr>\n",
       "      <th>925</th>\n",
       "      <td>Coffee</td>\n",
       "      <td>This has been an annoying problem for a couple...</td>\n",
       "    </tr>\n",
       "  </tbody>\n",
       "</table>\n",
       "<p>926 rows × 2 columns</p>\n",
       "</div>"
      ],
      "text/plain": [
       "    subreddit                                       combine_text\n",
       "0      Coffee   \\n\\nWelcome to the daily [/r/Coffee](https://...\n",
       "1      Coffee  Welcome to the /r/Coffee deal and promotional ...\n",
       "2      Coffee  Had a barista look at me like o was an idiot a...\n",
       "3      Coffee  Hello everyone, I’m new to this sub so please ...\n",
       "4      Coffee  I've been getting pre-ground coffee (Bustelo/L...\n",
       "..        ...                                                ...\n",
       "921    Coffee   \\n\\nWelcome to the daily [/r/Coffee](https://...\n",
       "922    Coffee  If I say I like craft beers, people probably a...\n",
       "923    Coffee  I've recently started trying to take more cont...\n",
       "924    Coffee  I've recently started making coldbrew in my fr...\n",
       "925    Coffee  This has been an annoying problem for a couple...\n",
       "\n",
       "[926 rows x 2 columns]"
      ]
     },
     "execution_count": 45,
     "metadata": {},
     "output_type": "execute_result"
    }
   ],
   "source": [
    "train_coffee"
   ]
  },
  {
   "cell_type": "code",
   "execution_count": 46,
   "metadata": {},
   "outputs": [
    {
     "data": {
      "text/html": [
       "<div>\n",
       "<style scoped>\n",
       "    .dataframe tbody tr th:only-of-type {\n",
       "        vertical-align: middle;\n",
       "    }\n",
       "\n",
       "    .dataframe tbody tr th {\n",
       "        vertical-align: top;\n",
       "    }\n",
       "\n",
       "    .dataframe thead th {\n",
       "        text-align: right;\n",
       "    }\n",
       "</style>\n",
       "<table border=\"1\" class=\"dataframe\">\n",
       "  <thead>\n",
       "    <tr style=\"text-align: right;\">\n",
       "      <th></th>\n",
       "      <th>subreddit</th>\n",
       "      <th>combine_text</th>\n",
       "    </tr>\n",
       "  </thead>\n",
       "  <tbody>\n",
       "    <tr>\n",
       "      <th>0</th>\n",
       "      <td>tea</td>\n",
       "      <td>What are you drinking today?  What questions h...</td>\n",
       "    </tr>\n",
       "    <tr>\n",
       "      <th>1</th>\n",
       "      <td>tea</td>\n",
       "      <td>We realize there are lots of people involved i...</td>\n",
       "    </tr>\n",
       "    <tr>\n",
       "      <th>2</th>\n",
       "      <td>tea</td>\n",
       "      <td>Tea Testing for quality check. flavor, liquor...</td>\n",
       "    </tr>\n",
       "    <tr>\n",
       "      <th>3</th>\n",
       "      <td>tea</td>\n",
       "      <td>Hello. I decided to share with you a photo of...</td>\n",
       "    </tr>\n",
       "    <tr>\n",
       "      <th>4</th>\n",
       "      <td>tea</td>\n",
       "      <td>A little black tea and cookies for breakfast ...</td>\n",
       "    </tr>\n",
       "    <tr>\n",
       "      <th>...</th>\n",
       "      <td>...</td>\n",
       "      <td>...</td>\n",
       "    </tr>\n",
       "    <tr>\n",
       "      <th>980</th>\n",
       "      <td>tea</td>\n",
       "      <td>Brand new to Tea! Has anyone tried Vahdam tea...</td>\n",
       "    </tr>\n",
       "    <tr>\n",
       "      <th>981</th>\n",
       "      <td>tea</td>\n",
       "      <td>A nice, relaxing day with a Dan Cong oolong a...</td>\n",
       "    </tr>\n",
       "    <tr>\n",
       "      <th>982</th>\n",
       "      <td>tea</td>\n",
       "      <td>Clouds over a cup when tea is the sun.</td>\n",
       "    </tr>\n",
       "    <tr>\n",
       "      <th>983</th>\n",
       "      <td>tea</td>\n",
       "      <td>Benefits? of getting loose leaf at a bar.</td>\n",
       "    </tr>\n",
       "    <tr>\n",
       "      <th>984</th>\n",
       "      <td>tea</td>\n",
       "      <td>Just came across a great podcast on the histo...</td>\n",
       "    </tr>\n",
       "  </tbody>\n",
       "</table>\n",
       "<p>985 rows × 2 columns</p>\n",
       "</div>"
      ],
      "text/plain": [
       "    subreddit                                       combine_text\n",
       "0         tea  What are you drinking today?  What questions h...\n",
       "1         tea  We realize there are lots of people involved i...\n",
       "2         tea   Tea Testing for quality check. flavor, liquor...\n",
       "3         tea   Hello. I decided to share with you a photo of...\n",
       "4         tea   A little black tea and cookies for breakfast ...\n",
       "..        ...                                                ...\n",
       "980       tea   Brand new to Tea! Has anyone tried Vahdam tea...\n",
       "981       tea   A nice, relaxing day with a Dan Cong oolong a...\n",
       "982       tea             Clouds over a cup when tea is the sun.\n",
       "983       tea          Benefits? of getting loose leaf at a bar.\n",
       "984       tea   Just came across a great podcast on the histo...\n",
       "\n",
       "[985 rows x 2 columns]"
      ]
     },
     "execution_count": 46,
     "metadata": {},
     "output_type": "execute_result"
    }
   ],
   "source": [
    "train_tea"
   ]
  },
  {
   "cell_type": "code",
   "execution_count": 47,
   "metadata": {},
   "outputs": [],
   "source": [
    "# save coffee and train data to csv\n",
    "train_coffee.to_csv('../data/train_coffee.csv', index = False)"
   ]
  },
  {
   "cell_type": "code",
   "execution_count": 48,
   "metadata": {},
   "outputs": [],
   "source": [
    "train_tea.to_csv('../data/train_tea.csv', index = False)"
   ]
  }
 ],
 "metadata": {
  "kernelspec": {
   "display_name": "Python 3",
   "language": "python",
   "name": "python3"
  },
  "language_info": {
   "codemirror_mode": {
    "name": "ipython",
    "version": 3
   },
   "file_extension": ".py",
   "mimetype": "text/x-python",
   "name": "python",
   "nbconvert_exporter": "python",
   "pygments_lexer": "ipython3",
   "version": "3.8.8"
  },
  "toc": {
   "base_numbering": "2",
   "nav_menu": {},
   "number_sections": true,
   "sideBar": true,
   "skip_h1_title": false,
   "title_cell": "Table of Contents",
   "title_sidebar": "Contents",
   "toc_cell": false,
   "toc_position": {
    "height": "108.667px",
    "left": "56px",
    "top": "164.667px",
    "width": "255.99px"
   },
   "toc_section_display": true,
   "toc_window_display": false
  }
 },
 "nbformat": 4,
 "nbformat_minor": 2
}
